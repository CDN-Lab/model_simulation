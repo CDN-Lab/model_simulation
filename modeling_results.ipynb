{
 "cells": [
  {
   "cell_type": "markdown",
   "id": "683310bc",
   "metadata": {},
   "source": [
    "# Simulation Results\n",
    "\n",
    "This is a summary of the simulation results, to share with the CDN lab. These results will guide our parameter selection for the modeling analysis. The modeling is the \"bread and butter\" of the lab so it is critical to take the time and do this correctly."
   ]
  },
  {
   "cell_type": "markdown",
   "id": "992cbc62",
   "metadata": {},
   "source": [
    "## Using choice set space\n",
    "\n",
    "We used the choice set space defined by the experiments to determine possible values for the modeling parameters. We computed the parameter value that would allow us to model extreme values in the choice set space. That is, we should be able to model a subject whose indifference point is located on either corner of the choice set space. In Confidence Delay Decision (CDD) this translates to the most/least patient person in the sample. In Confidence Risky Decision Making (CRDM), this translates to the most/least risky person in the sample. To find the indifference point, we equate the subjective values (SV) for the two choices in the two tasks and compute the model parameters. "
   ]
  },
  {
   "cell_type": "markdown",
   "id": "d3168b95",
   "metadata": {},
   "source": [
    "<img src=\"./choice_set_space.png\" alt=\"Choice Set Space\" />"
   ]
  },
  {
   "cell_type": "markdown",
   "id": "44a336a7",
   "metadata": {},
   "source": [
    "### Confidence Delay Decision (CDD)\n",
    "In this task we will equate the subject value (SV) for the two choices: $SV_{now}$ and $SV_{delay}$.\n",
    "\n",
    "\\begin{align}\n",
    "SV_{now} =& SV_{delay} \\\\ \\\\\n",
    "\\frac{v_{now}^{\\alpha}}{1+\\kappa d_{now}} =& \\frac{v_{delay}^{\\alpha}}{1+\\kappa d_{delay}}\n",
    "\\end{align}\n",
    "\n",
    "The value for $d_{now}$ is set to $0$ so we can simplify:\n",
    "\n",
    "\\begin{align}\n",
    "v_{now}^{\\alpha} = \\frac{v_{delay}^{\\alpha}}{1+\\kappa d_{delay}}\n",
    "\\end{align}\n",
    "\n",
    "and solve for $\\kappa$:\n",
    "\n",
    "\\begin{align}\n",
    "\\kappa = \\frac{v_{delay}/v_{now} - 1}{d_{delay}}\n",
    "\\end{align}\n",
    "\n",
    "Using this formula, we can compute values for $\\kappa$ by setting the corresponding variables and column names:\n",
    "$v_{now}$ = df['cdd_immed_amt'], $v_{delay}$ = df['cdd_delay_amt'], and $d_{delay}$ = df['cdd_delay_wait']. We computed kappa, saved them, and display the ranges of values sorted by kappa, showing the first 5 and the last 5 of the spreadsheet."
   ]
  },
  {
   "cell_type": "code",
   "execution_count": 46,
   "id": "0ce8261a",
   "metadata": {},
   "outputs": [
    {
     "name": "stdout",
     "output_type": "stream",
     "text": [
      "       kappa  cdd_immed_amt  cdd_immed_wait  cdd_delay_amt  cdd_delay_wait\n",
      "30  0.002222             15               0             20             150\n",
      "1   0.002667             25               0             35             150\n",
      "41  0.002963             15               0             19              90\n",
      "18  0.004000             15               0             24             150\n",
      "58  0.005650             15               0             20              59\n",
      "..       ...            ...             ...            ...             ...\n",
      "42  2.166667              2               0             41               9\n",
      "21  3.000000              5               0             65               4\n",
      "38  3.444444              2               0             64               9\n",
      "23  5.125000              2               0             43               4\n",
      "84  7.875000              2               0             65               4\n",
      "\n",
      "[93 rows x 5 columns]\n"
     ]
    }
   ],
   "source": [
    "import pandas as pd\n",
    "fn='/Users/pizarror/mturk/model_simulation/estimates/kappa_values.csv'\n",
    "df = pd.read_csv(fn,index_col=0)\n",
    "print(df)"
   ]
  },
  {
   "cell_type": "markdown",
   "id": "788323e3",
   "metadata": {},
   "source": [
    "This means that we can model with the following ranges for $\\kappa=[0.0022,7.8750]$"
   ]
  },
  {
   "cell_type": "markdown",
   "id": "5c215b20",
   "metadata": {},
   "source": [
    "### Confidence Risky Decision Making (CRDM)\n",
    "In this task we will equate the subject value (SV) for the two choices: $SV_{sure}$ and $SV_{lottery}$ with no ambiguity, i.e., $A=0$.\n",
    "\n",
    "\\begin{align}\n",
    "SV_{sure} =& SV_{lottery} \\\\ \\\\\n",
    "p_{safe}v_{sure}^{\\alpha} =& p_{lottery}v_{lottery}^{\\alpha}\n",
    "\\end{align}\n",
    "\n",
    "The value for $p_{safe}$ is set to $1$ so we can simplify:\n",
    "\n",
    "\\begin{align}\n",
    "v_{sure}^{\\alpha} = p_{lottery}v_{lottery}^{\\alpha}\n",
    "\\end{align}\n",
    "\n",
    "and solve for $\\alpha$:\n",
    "\n",
    "\\begin{align}\n",
    "\\left(\\frac{v_{sure}}{v_{lottery}}\\right)^{\\alpha} = p_{lottery} \\\\ \n",
    "\\alpha \\log{\\left(\\frac{v_{sure}}{v_{lottery}}\\right)} = log{\\left(p_{lottery}\\right)} \\\\\n",
    "\\alpha  =  \\frac{log{\\left(p_{lottery}\\right)}}{\\log{\\left(\\frac{v_{sure}}{v_{lottery}}\\right)}}\n",
    "\\end{align}\n",
    "\n",
    "Using this formula, we can compute values for $\\alpha$ by setting the corresponding variables and column names:\n",
    "$v_{sure}$ = df['crdm_sure_amt'], $v_{lottery}$ = df['crdm_lott_amt'], and $p_{lottery}$ = df['crdm_lott_p']. *NOTE* we set df['crdm_lott_amt'] = df['crdm_lott_top'] + df['crdm_lott_bot'] as the lottery value at the top and bottom We computed $\\alpha$, saved them, and display the ranges of values sorted by $\\alpha$, showing the spreadsheet."
   ]
  },
  {
   "cell_type": "code",
   "execution_count": 47,
   "id": "042c3440",
   "metadata": {},
   "outputs": [
    {
     "name": "stdout",
     "output_type": "stream",
     "text": [
      "       alpha  crdm_sure_amt  crdm_lott_amt  crdm_lott_p  crdm_amb_lev\n",
      "45  0.124939            5.0           50.0         75.0           0.0\n",
      "14  0.124939            5.0           50.0         75.0           0.0\n",
      "28  0.138346            5.0           40.0         75.0           0.0\n",
      "26  0.138346            5.0           40.0         75.0           0.0\n",
      "8   0.207519            5.0           20.0         75.0           0.0\n",
      "..       ...            ...            ...          ...           ...\n",
      "27  2.058674            5.0            8.0         38.0           0.0\n",
      "40  2.949540            5.0            8.0         25.0           0.0\n",
      "41  2.949540            5.0            8.0         25.0           0.0\n",
      "17  4.340863            5.0            8.0         13.0           0.0\n",
      "9   4.340863            5.0            8.0         13.0           0.0\n",
      "\n",
      "[42 rows x 5 columns]\n"
     ]
    }
   ],
   "source": [
    "fn='/Users/pizarror/mturk/model_simulation/estimates/alpha_values.csv'\n",
    "df = pd.read_csv(fn,index_col=0)\n",
    "df_alpha = df.loc[df['alpha']>-1e6].drop(columns=['crdm_sure_p'])\n",
    "print(df_alpha)"
   ]
  },
  {
   "cell_type": "markdown",
   "id": "8d3dc163",
   "metadata": {},
   "source": [
    "This means that we can model with the following ranges for $\\alpha=[0.125,4.341]$"
   ]
  },
  {
   "cell_type": "code",
   "execution_count": null,
   "id": "4349f4d9",
   "metadata": {},
   "outputs": [],
   "source": []
  },
  {
   "cell_type": "code",
   "execution_count": null,
   "id": "9e3a83fb",
   "metadata": {},
   "outputs": [],
   "source": []
  },
  {
   "cell_type": "code",
   "execution_count": null,
   "id": "6601c404",
   "metadata": {},
   "outputs": [],
   "source": []
  },
  {
   "cell_type": "code",
   "execution_count": null,
   "id": "d1426dda",
   "metadata": {},
   "outputs": [],
   "source": []
  }
 ],
 "metadata": {
  "kernelspec": {
   "display_name": "Python 3 (ipykernel)",
   "language": "python",
   "name": "python3"
  },
  "language_info": {
   "codemirror_mode": {
    "name": "ipython",
    "version": 3
   },
   "file_extension": ".py",
   "mimetype": "text/x-python",
   "name": "python",
   "nbconvert_exporter": "python",
   "pygments_lexer": "ipython3",
   "version": "3.9.15"
  }
 },
 "nbformat": 4,
 "nbformat_minor": 5
}
